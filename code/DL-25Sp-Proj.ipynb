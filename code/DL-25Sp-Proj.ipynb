{
 "cells": [
  {
   "cell_type": "code",
   "id": "initial_id",
   "metadata": {
    "collapsed": true
   },
   "source": [
    "import os\n",
    "import pickle\n",
    "import numpy as np\n",
    "import torch\n",
    "import torch.nn as nn\n",
    "import torch.optim as optim\n",
    "from torch.utils.data import Dataset, DataLoader\n",
    "import torchvision.transforms as transforms"
   ],
   "outputs": [],
   "execution_count": null
  },
  {
   "metadata": {},
   "cell_type": "code",
   "source": [
    "device = torch.device(\"cuda\" if torch.cuda.is_available() else \"cpu\")\n",
    "print(\"Using device:\", device)"
   ],
   "id": "1f5c0756f0803c60",
   "outputs": [],
   "execution_count": null
  },
  {
   "metadata": {},
   "cell_type": "code",
   "source": [
    "def unpickle(file):\n",
    "    with open(file, 'rb') as fo:\n",
    "        dict = pickle.load(fo, encoding='bytes')\n",
    "    return dict"
   ],
   "id": "33cab83d99beeb01",
   "outputs": [],
   "execution_count": null
  },
  {
   "metadata": {},
   "cell_type": "code",
   "source": [
    "class CIFAR10Dataset(Dataset):\n",
    "    def __init__(self, data_files, transform=None):\n",
    "        \"\"\"\n",
    "        data_files: list of path\n",
    "        transform: torchvision.transforms for preprocessing\n",
    "        \"\"\"\n",
    "        self.transform = transform\n",
    "        images = []\n",
    "        labels = []\n",
    "        # scan all data file\n",
    "        for file in data_files:\n",
    "            batch = unpickle(file)\n",
    "            data = batch[b'data']\n",
    "            data = data.reshape(-1, 3, 32, 32)\n",
    "            images.append(data)\n",
    "            labels += batch[b'labels']\n",
    "        self.images = np.concatenate(images, axis=0)\n",
    "        self.labels = np.array(labels)\n",
    "    def __len__(self):\n",
    "        return len(self.labels)\n",
    "    # Get photo and label, turning to float32\n",
    "    def __getitem__(self, idx):\n",
    "        image = self.images[idx].astype(np.float32)\n",
    "        label = self.labels[idx]\n",
    "        if self.transform:\n",
    "            image = self.transform(image)\n",
    "        return image, label\n"
   ],
   "id": "5996d57fce46888b",
   "outputs": [],
   "execution_count": null
  },
  {
   "metadata": {},
   "cell_type": "code",
   "source": [
    "class Cutout(object):\n",
    "    def __init__(self, n_holes, length):\n",
    "        \"\"\"\n",
    "        Here we use Cutout as one of our way to get data augumentation.\n",
    "        This method is used by 'cutting' some area to improve its robustness.\n",
    "        \n",
    "        Parameters:\n",
    "        n_holes: area that each photos need to be hidden(this is important)\n",
    "        length: length of edges for each hidden area.\n",
    "        \n",
    "        \"\"\"\n",
    "        self.n_holes = n_holes\n",
    "        self.length = length\n",
    "\n",
    "    def __call__(self, img):\n",
    "        # make img as Tensor, size with [C, H, W]\n",
    "        h = img.size(1)\n",
    "        w = img.size(2)\n",
    "        #We firstly make some mask as '1', then randomly select some area as '0' to achieve our 'Cutout'.\n",
    "        mask = np.ones((h, w), np.float32)\n",
    "\n",
    "        for n in range(self.n_holes):\n",
    "            y = np.random.randint(h)\n",
    "            x = np.random.randint(w)\n",
    "\n",
    "            y1 = np.clip(y - self.length // 2, 0, h)\n",
    "            y2 = np.clip(y + self.length // 2, 0, h)\n",
    "            x1 = np.clip(x - self.length // 2, 0, w)\n",
    "            x2 = np.clip(x + self.length // 2, 0, w)\n",
    "\n",
    "            mask[y1: y2, x1: x2] = 0.\n",
    "\n",
    "        mask = torch.from_numpy(mask).to(img.device)\n",
    "        mask = mask.expand_as(img)\n",
    "        img = img * mask\n",
    "        return img\n",
    "\n",
    "import torchvision.transforms.functional as F\n",
    "from torch.utils.data import random_split\n",
    "\n",
    "\n",
    "\n",
    "def to_pil_image_transform(x):\n",
    "    \"\"\"\n",
    "    We will then use torchvision.transforms. However it cannot be used\n",
    "    for numpy format photos(where they have (C, H, W) instead of (H, W, C)).\n",
    "    In this case we need to transform it to PIL Image.\n",
    "    \"\"\"\n",
    "    \n",
    "    # change numpy list (C, H, W) to PIL Image\n",
    "    return F.to_pil_image(x.transpose(1, 2, 0))\n",
    "\n",
    "\"\"\"\n",
    "For transformation steps:\n",
    "1. to PIL,\n",
    "2. randomly adjust its brightness, contrast and saturation,\n",
    "3. randomly cut, by firstly adding 4 pixels then cut to 32*32,\n",
    "4. randomly horizontally flip,\n",
    "5. change it to Tensor and map it from [0,255] to [0,1],\n",
    "6. Use Cutout for data augumentation.\n",
    "\"\"\"\n",
    "\n",
    "train_transform = transforms.Compose([\n",
    "    to_pil_image_transform,\n",
    "    transforms.ColorJitter(brightness=0.4, contrast=0.4, saturation=0.4),\n",
    "    transforms.RandomCrop(32, padding=4),\n",
    "    transforms.RandomHorizontalFlip(),\n",
    "    transforms.ToTensor(),\n",
    "    transforms.Normalize((0.4914, 0.4822, 0.4465),\n",
    "                         (0.2023, 0.1994, 0.2010)),\n",
    "    Cutout(n_holes=1, length=8)\n",
    "])\n",
    "\n",
    "test_transform = transforms.Compose([\n",
    "    to_pil_image_transform,\n",
    "    transforms.ToTensor(),\n",
    "    transforms.Normalize((0.4914, 0.4822, 0.4465),\n",
    "                         (0.2023, 0.1994, 0.2010))\n",
    "])\n",
    "\n",
    "# This is the datapath. For specificlly satisfy the path of competitions there are some small adjustments.\n",
    "data_dir = \"../data/cifar-10-python/cifar-10-batches-py\"\n",
    "train_files = [os.path.join(data_dir, \"data_batch_%d\" % i) for i in range(1,6)]\n",
    "test_files = [os.path.join(data_dir, \"test_batch\")]\n",
    "\n",
    "# Create objects for train, test and validation data. \n",
    "# Validation data is used to monitor whether train_set is overfitting or not. It is set as 0.1* (train set)\n",
    "full_train_dataset = CIFAR10Dataset(train_files, transform=train_transform)\n",
    "train_size = int(0.9 * len(full_train_dataset))\n",
    "val_size = len(full_train_dataset) - train_size\n",
    "\n",
    "train_dataset, val_dataset = random_split(\n",
    "    full_train_dataset,\n",
    "    [train_size, val_size],\n",
    "    generator=torch.Generator().manual_seed(42)  # Make split repeatable.\n",
    ")\n",
    "\n",
    "\n",
    "test_dataset = CIFAR10Dataset(test_files, transform=test_transform)\n",
    "\n",
    "# Define custom DataLoader\n",
    "batch_size = 256\n",
    "train_loader = DataLoader(train_dataset, batch_size=batch_size, shuffle=True, num_workers=0)\n",
    "val_loader = DataLoader(val_dataset, batch_size=batch_size, shuffle=False, num_workers=0)\n",
    "test_loader = DataLoader(test_dataset, batch_size=batch_size, shuffle=False, num_workers=0)"
   ],
   "id": "1fe8a6fce1276c6d",
   "outputs": [],
   "execution_count": null
  },
  {
   "metadata": {},
   "cell_type": "code",
   "source": [
    "class BasicBlock(nn.Module):\n",
    "    expansion = 1\n",
    "    # This is a BasicBlock，so not expansion\n",
    "    def __init__(self, in_planes, planes, stride=1):\n",
    "        \"\"\"\n",
    "        in_planes: input_channel_number\n",
    "        planes: output_channel_number(number of channel in the middle)\n",
    "        stride: steps for down sampling.\n",
    "        \"\"\"\n",
    "        super(BasicBlock, self).__init__()\n",
    "        # kernel 3*3, padding = 1, steps varies.\n",
    "        self.conv1 = nn.Conv2d(in_planes, planes, kernel_size=3, stride=stride, \n",
    "                               padding=1, bias=False)\n",
    "        self.bn1 = nn.BatchNorm2d(planes)\n",
    "        # kernel 3*3, sizes unchanged.\n",
    "        self.conv2 = nn.Conv2d(planes, planes, kernel_size=3, stride=1,\n",
    "                               padding=1, bias=False)\n",
    "        self.bn2 = nn.BatchNorm2d(planes)\n",
    "        \n",
    "        # transform by 1*1 convention if needed\n",
    "        self.shortcut = nn.Sequential()\n",
    "        if stride != 1 or in_planes != planes * self.expansion:\n",
    "            self.shortcut = nn.Sequential(\n",
    "                nn.Conv2d(in_planes, planes * self.expansion, kernel_size=1,\n",
    "                          stride=stride, bias=False),\n",
    "                nn.BatchNorm2d(planes * self.expansion)\n",
    "            )\n",
    "        \n",
    "    def forward(self, x):\n",
    "        # F(x): conv -> BN -> ReLU -> conv -> BN\n",
    "        out = self.conv1(x)\n",
    "        out = self.bn1(out)\n",
    "        out = torch.relu(out)\n",
    "        out = self.conv2(out)\n",
    "        out = self.bn2(out)\n",
    "        # S(x): jump connection\n",
    "        shortcut = self.shortcut(x)\n",
    "        out += shortcut\n",
    "        out = torch.relu(out)\n",
    "        return out"
   ],
   "id": "505411e63b22693e",
   "outputs": [],
   "execution_count": null
  },
  {
   "metadata": {},
   "cell_type": "code",
   "source": [
    "class ResNet(nn.Module):\n",
    "    def __init__(self, block, num_blocks, num_classes=10):\n",
    "        \"\"\"\n",
    "        block: types of residual\n",
    "        num_blocks: lists containing number of blocks of residual.\n",
    "        num_classes: number of classification, here at CIFAR-10 in dataset description it has 10.\n",
    "        \"\"\"\n",
    "        super(ResNet, self).__init__()\n",
    "        self.in_planes = 16  # initial planes\n",
    "        \n",
    "        # intial convolution layers:\n",
    "        self.conv1 = nn.Conv2d(3, 16, kernel_size=3, stride=1, padding=1, bias=False)\n",
    "        self.bn1 = nn.BatchNorm2d(16)\n",
    "        \n",
    "       # Given three stages that each stages may change number of channels and size.\n",
    "        self.layer1 = self._make_layer(block, 16, num_blocks[0], stride=1)\n",
    "        self.layer2 = self._make_layer(block, 32, num_blocks[1], stride=2)  # down sampling.\n",
    "        self.layer3 = self._make_layer(block, 64, num_blocks[2], stride=2)  # down sampling.\n",
    "        \n",
    "        # average pool and global output.\n",
    "        self.avgpool = nn.AdaptiveAvgPool2d((1, 1))\n",
    "        self.fc = nn.Linear(64 * block.expansion, num_classes)\n",
    "        \n",
    "    def _make_layer(self, block, planes, num_blocks, stride):\n",
    "        \"\"\"\n",
    "        construction method. By creating residual blocks.\n",
    "        \"\"\"\n",
    "        strides = [stride] + [1]*(num_blocks - 1)\n",
    "        layers = []\n",
    "        for stride in strides:\n",
    "            layers.append(block(self.in_planes, planes, stride))\n",
    "            self.in_planes = planes * block.expansion\n",
    "        return nn.Sequential(*layers)\n",
    "    \n",
    "    def forward(self, x):\n",
    "        # intial convolution layer.\n",
    "        out = self.conv1(x)\n",
    "        out = self.bn1(out)\n",
    "        out = torch.relu(out)\n",
    "         # pass three stages,\n",
    "        out = self.layer1(out)\n",
    "        out = self.layer2(out)\n",
    "        out = self.layer3(out)\n",
    "         # global average pool. The output size shall be (batch_size, channels, 1, 1)\n",
    "        out = self.avgpool(out)\n",
    "        out = out.view(out.size(0), -1)  # Then get it flatten\n",
    "        #This dropout method is not used for booming loss\n",
    "        # out = self.dropout(out) .\n",
    "        out = self.fc(out)\n",
    "        return out"
   ],
   "id": "e341100fd34479c0",
   "outputs": [],
   "execution_count": null
  },
  {
   "metadata": {},
   "cell_type": "code",
   "source": [
    "def ResNet20():\n",
    "    return ResNet(BasicBlock, [3, 3, 3])\n",
    "\n",
    "def ResNet56():\n",
    "    return ResNet(BasicBlock, [9, 9, 9])"
   ],
   "id": "1609d0b6ecc4f63f",
   "outputs": [],
   "execution_count": null
  },
  {
   "metadata": {},
   "cell_type": "code",
   "source": "model = ResNet56().to(device)",
   "id": "b85ef78bfb733216",
   "outputs": [],
   "execution_count": null
  },
  {
   "metadata": {},
   "cell_type": "code",
   "source": "print(model)",
   "id": "b94323be8eec1268",
   "outputs": [],
   "execution_count": null
  },
  {
   "metadata": {},
   "cell_type": "code",
   "source": [
    "num_params = sum(p.numel() for p in model.parameters())\n",
    "print(\"Total number of parameters: {:.2f}M\".format(num_params/1e6))"
   ],
   "id": "2b8eebc6abcc7124",
   "outputs": [],
   "execution_count": null
  },
  {
   "metadata": {},
   "cell_type": "code",
   "source": [
    "#Use label smoothing as a way of cross entropy loss. set as 0.08 since it has better performance than 0.1\n",
    "criterion = nn.CrossEntropyLoss(label_smoothing=0.08)\n",
    "optimizer = optim.SGD(model.parameters(), lr=0.1, momentum=0.9, weight_decay=5e-4)\n",
    "#scheduler = optim.lr_scheduler.CosineAnnealingLR(optimizer, T_max=100)\n",
    "scheduler = optim.lr_scheduler.StepLR(optimizer, step_size=30, gamma=0.5)  \n",
    "# reduce learning rate by 50% with every 30 epochs."
   ],
   "id": "fc7b35656810cefe",
   "outputs": [],
   "execution_count": null
  },
  {
   "metadata": {},
   "cell_type": "code",
   "source": [
    "from tqdm import tqdm\n",
    "\n",
    "#Use mixup as another data augumentation method.\n",
    "def mixup_data(x, y, alpha=1.0):\n",
    "    \"\"\"Returns mixed inputs, pairs of targets, and lambda\"\"\"\n",
    "    if alpha > 0:\n",
    "        lam = np.random.beta(alpha, alpha)\n",
    "    else:\n",
    "        lam = 1\n",
    "    batch_size = x.size()[0]\n",
    "    index = torch.randperm(batch_size).to(device)\n",
    "    mixed_x = lam * x + (1 - lam) * x[index, :]\n",
    "    y_a, y_b = y, y[index]\n",
    "    return mixed_x, y_a, y_b, lam\n"
   ],
   "id": "7f918730e43bb3d4",
   "outputs": [],
   "execution_count": null
  },
  {
   "metadata": {},
   "cell_type": "code",
   "source": [
    "def train(epoch, use_mixup=True, mixup_alpha=1.0):\n",
    "    model.train()\n",
    "    correct = 0\n",
    "    total = 0\n",
    "    running_loss = 0.0\n",
    "    # Use tqdm to get train_loader visualize progress\n",
    "    train_bar = tqdm(train_loader, desc=f\"Epoch {epoch} Training\", leave=False)\n",
    "    for batch_idx, (inputs, targets) in enumerate(train_bar):\n",
    "        inputs, targets = inputs.to(device), targets.to(device)\n",
    "        optimizer.zero_grad()   #Give zero gratitude.\n",
    "        #If mixup = True, we give mixup_alpha as a parameter to handle with input.\n",
    "        if use_mixup:\n",
    "            inputs, targets_a, targets_b, lam = mixup_data(inputs, targets, alpha=mixup_alpha)\n",
    "            outputs = model(inputs)\n",
    "            loss = lam * criterion(outputs, targets_a) + (1 - lam) * criterion(outputs, targets_b)\n",
    "        else:\n",
    "            outputs = model(inputs)\n",
    "            loss = criterion(outputs, targets)\n",
    "        \n",
    "        \n",
    "        # outputs = model(inputs) \n",
    "        # loss = criterion(outputs, targets)\n",
    "        loss.backward()         # back propagation\n",
    "        optimizer.step()        # update parameters.\n",
    "\n",
    "        running_loss += loss.item()\n",
    "        _, predicted = outputs.max(1)\n",
    "        total += targets.size(0)\n",
    "        correct += predicted.eq(targets).sum().item()\n",
    "        train_loss = running_loss/(batch_idx+1)\n",
    "        # update bar to view content.\n",
    "        train_bar.set_postfix(loss=running_loss/(batch_idx+1), acc=100.*correct/total)\n",
    "    \n",
    "    train_acc = 100.*correct/total\n",
    "    \n",
    "    print(\"Epoch: {} | Loss: {:.3f} | Train Acc: {:.3f}%\".format(epoch, train_loss, train_acc))\n",
    "    return train_acc, train_loss"
   ],
   "id": "ba1f5cc4e3dca425",
   "outputs": [],
   "execution_count": null
  },
  {
   "metadata": {},
   "cell_type": "code",
   "source": [
    "\"\"\"\n",
    "Same approaches with validation set, without back propagation(no need for test and validate set)\n",
    "\"\"\"\n",
    "def validate(epoch):\n",
    "    model.eval()\n",
    "    correct = 0\n",
    "    total = 0\n",
    "    running_loss = 0.0\n",
    "\n",
    "    with torch.no_grad():\n",
    "        for batch_idx, (inputs, targets) in enumerate(val_loader):\n",
    "            inputs, targets = inputs.to(device), targets.to(device)\n",
    "            outputs = model(inputs)\n",
    "            loss = criterion(outputs, targets)\n",
    "\n",
    "            _, predicted = outputs.max(1)\n",
    "            total += targets.size(0)\n",
    "            correct += predicted.eq(targets).sum().item()\n",
    "            running_loss += loss.item()\n",
    "\n",
    "    val_acc = 100.*correct/total\n",
    "    val_loss = running_loss / len(val_loader)\n",
    "    print(\"Epoch: {} | Val Loss: {:.3f} | Val Acc: {:.3f}%\".format(epoch, val_loss, val_acc))\n",
    "    return val_acc, val_loss\n"
   ],
   "id": "7ede980b6a09db70",
   "outputs": [],
   "execution_count": null
  },
  {
   "metadata": {
    "jupyter": {
     "is_executing": true
    }
   },
   "cell_type": "code",
   "source": [
    "\"\"\"\n",
    "Same approaches with validation set, without back propagation(no need for test and validate set)\n",
    "\"\"\"\n",
    "def test(epoch):\n",
    "    model.eval()\n",
    "    correct = 0\n",
    "    total = 0\n",
    "    test_bar = tqdm(test_loader, desc=f\"Epoch {epoch} Testing\", leave=False)\n",
    "    with torch.no_grad():\n",
    "        for batch_idx, (inputs, targets) in enumerate(test_bar):\n",
    "            inputs, targets = inputs.to(device), targets.to(device)\n",
    "            outputs = model(inputs)\n",
    "            _, predicted = outputs.max(1)\n",
    "            total += targets.size(0)\n",
    "            correct += predicted.eq(targets).sum().item()\n",
    "            test_bar.set_postfix(acc=100.*correct/total)\n",
    "    test_acc = 100.*correct/total\n",
    "    print(\"Epoch: {} | Test Acc: {:.3f}%\".format(epoch, test_acc))\n",
    "    return test_acc"
   ],
   "id": "cf3b413831be0f0c",
   "outputs": [],
   "execution_count": null
  },
  {
   "metadata": {},
   "cell_type": "code",
   "source": [
    "\"\"\"\n",
    "Set epochs as 240, losses and accuracies are stored to draw graph.\n",
    "I think by looking at graph, ~170 epochs will be the greatest, \n",
    "\"\"\"\n",
    "num_epochs = 240\n",
    "train_accuracies = []\n",
    "val_accuracies = []\n",
    "test_accuracies = []\n",
    "train_losses = []\n",
    "val_losses = []"
   ],
   "id": "30f5e0b3df694553",
   "outputs": [],
   "execution_count": null
  },
  {
   "metadata": {},
   "cell_type": "code",
   "source": [
    "\"\"\"\n",
    "Statrt training.\n",
    "\"\"\"\n",
    "for epoch in range(1, num_epochs+1):\n",
    "    train_acc, train_loss = train(epoch, use_mixup=True, mixup_alpha=1.0)\n",
    "    val_acc, val_loss = validate(epoch)\n",
    "    test_acc = test(epoch)\n",
    "    train_accuracies.append(train_acc)\n",
    "    val_accuracies.append(val_acc)\n",
    "    test_accuracies.append(test_acc)\n",
    "    train_losses.append(train_loss)\n",
    "    val_losses.append(val_loss)\n",
    "    scheduler.step()"
   ],
   "id": "48fb40890a27c7db",
   "outputs": [],
   "execution_count": null
  },
  {
   "metadata": {
    "ExecuteTime": {
     "end_time": "2025-03-11T00:50:50.354732Z",
     "start_time": "2025-03-11T00:50:49.900166Z"
    }
   },
   "cell_type": "code",
   "source": [
    "import matplotlib.pyplot as plt\n",
    "\n",
    "plt.figure(figsize=(8,8))\n",
    "plt.plot(range(1, num_epochs+1), test_accuracies, marker='o', label='Test Accuracy')\n",
    "plt.axhline(80, color='red', linestyle='--', label='Baseline (80%)')\n",
    "plt.ylim(80-25, 80+15)  # y axis from 55 to 95.\n",
    "plt.xlim(1, num_epochs)\n",
    "plt.xlabel('Epoch')\n",
    "plt.ylabel('Test Accuracy (%)')\n",
    "plt.title('Test Accuracy over Epochs')\n",
    "plt.legend()\n",
    "plt.show()\n",
    "\n",
    "#Draw accuracy graph."
   ],
   "id": "8deed839325dd87f",
   "outputs": [
    {
     "ename": "NameError",
     "evalue": "name 'num_epochs' is not defined",
     "output_type": "error",
     "traceback": [
      "\u001B[1;31m---------------------------------------------------------------------------\u001B[0m",
      "\u001B[1;31mNameError\u001B[0m                                 Traceback (most recent call last)",
      "Cell \u001B[1;32mIn[1], line 4\u001B[0m\n\u001B[0;32m      1\u001B[0m \u001B[38;5;28;01mimport\u001B[39;00m\u001B[38;5;250m \u001B[39m\u001B[38;5;21;01mmatplotlib\u001B[39;00m\u001B[38;5;21;01m.\u001B[39;00m\u001B[38;5;21;01mpyplot\u001B[39;00m\u001B[38;5;250m \u001B[39m\u001B[38;5;28;01mas\u001B[39;00m\u001B[38;5;250m \u001B[39m\u001B[38;5;21;01mplt\u001B[39;00m\n\u001B[0;32m      3\u001B[0m plt\u001B[38;5;241m.\u001B[39mfigure(figsize\u001B[38;5;241m=\u001B[39m(\u001B[38;5;241m8\u001B[39m,\u001B[38;5;241m8\u001B[39m))\n\u001B[1;32m----> 4\u001B[0m plt\u001B[38;5;241m.\u001B[39mplot(\u001B[38;5;28mrange\u001B[39m(\u001B[38;5;241m1\u001B[39m, \u001B[43mnum_epochs\u001B[49m\u001B[38;5;241m+\u001B[39m\u001B[38;5;241m1\u001B[39m), test_accuracies, marker\u001B[38;5;241m=\u001B[39m\u001B[38;5;124m'\u001B[39m\u001B[38;5;124mo\u001B[39m\u001B[38;5;124m'\u001B[39m, label\u001B[38;5;241m=\u001B[39m\u001B[38;5;124m'\u001B[39m\u001B[38;5;124mTest Accuracy\u001B[39m\u001B[38;5;124m'\u001B[39m)\n\u001B[0;32m      5\u001B[0m plt\u001B[38;5;241m.\u001B[39maxhline(\u001B[38;5;241m80\u001B[39m, color\u001B[38;5;241m=\u001B[39m\u001B[38;5;124m'\u001B[39m\u001B[38;5;124mred\u001B[39m\u001B[38;5;124m'\u001B[39m, linestyle\u001B[38;5;241m=\u001B[39m\u001B[38;5;124m'\u001B[39m\u001B[38;5;124m--\u001B[39m\u001B[38;5;124m'\u001B[39m, label\u001B[38;5;241m=\u001B[39m\u001B[38;5;124m'\u001B[39m\u001B[38;5;124mBaseline (80\u001B[39m\u001B[38;5;124m%\u001B[39m\u001B[38;5;124m)\u001B[39m\u001B[38;5;124m'\u001B[39m)\n\u001B[0;32m      6\u001B[0m plt\u001B[38;5;241m.\u001B[39mylim(\u001B[38;5;241m80\u001B[39m\u001B[38;5;241m-\u001B[39m\u001B[38;5;241m25\u001B[39m, \u001B[38;5;241m80\u001B[39m\u001B[38;5;241m+\u001B[39m\u001B[38;5;241m15\u001B[39m)  \u001B[38;5;66;03m# y axis from 55 to 95.\u001B[39;00m\n",
      "\u001B[1;31mNameError\u001B[0m: name 'num_epochs' is not defined"
     ]
    },
    {
     "data": {
      "text/plain": [
       "<Figure size 800x800 with 0 Axes>"
      ]
     },
     "metadata": {},
     "output_type": "display_data"
    }
   ],
   "execution_count": 1
  },
  {
   "metadata": {
    "ExecuteTime": {
     "end_time": "2025-03-11T00:45:19.207269Z",
     "start_time": "2025-03-11T00:45:19.142232Z"
    }
   },
   "cell_type": "code",
   "source": [
    "plt.figure(figsize=(8,8))\n",
    "plt.plot(range(1, num_epochs+1), train_losses, marker='o', label='Train Loss')\n",
    "plt.plot(range(1, num_epochs+1), val_losses, marker='o', label='Validation Loss')\n",
    "plt.xlabel('Epoch')\n",
    "plt.ylabel('Loss')\n",
    "plt.title('Train and Validation Loss over Epochs')\n",
    "plt.legend()\n",
    "plt.show()\n",
    "#Draw loss graph"
   ],
   "id": "35e60bb5f886280b",
   "outputs": [
    {
     "data": {
      "text/plain": [
       "<Figure size 800x800 with 1 Axes>"
      ],
      "image/png": "[encoded data removed]"
     },
     "metadata": {},
     "output_type": "display_data"
    }
   ],
   "execution_count": 40
  },
  {
   "metadata": {},
   "cell_type": "code",
   "outputs": [],
   "execution_count": null,
   "source": [
    "test_nolabel_pkl = \"../data/cifar_test_nolabel.pkl\"\n",
    "with open(test_nolabel_pkl, 'rb') as fo:\n",
    "    data_dict = pickle.load(fo, encoding='bytes')\n",
    "\n",
    "print(\"All keys in data_dict:\", data_dict.keys())"
   ],
   "id": "bc5d9af174e2c765"
  },
  {
   "metadata": {},
   "cell_type": "code",
   "source": [
    "class CIFAR10TestNoLabelDataset(Dataset):\n",
    "    def __init__(self, pkl_file, transform=None):\n",
    "        \"\"\"\n",
    "        Only for cifar_test_nolabel.pkl.\n",
    "        get path, and return a .csv file.\n",
    "        \"\"\"\n",
    "        super().__init__()\n",
    "        self.transform = transform\n",
    "        \n",
    "        # read cifar_test_nolabel.pkl.\n",
    "        with open(pkl_file, 'rb') as fo:\n",
    "            data_dict = pickle.load(fo, encoding='bytes')\n",
    "        #I've used \"with open\" to check its variable names.\n",
    "        self.images = data_dict[b'data']  # shape: [N, 3, 32, 32]\n",
    "        self.ids = data_dict[b'ids']       \n",
    "\n",
    "    def __len__(self):\n",
    "        return len(self.images)\n",
    "\n",
    "    def __getitem__(self, idx):\n",
    "        # Drop images\n",
    "        image = self.images[idx].astype(np.float32)\n",
    "        # transform test_transform\n",
    "        if image.shape == (32, 32, 3):\n",
    "            image = np.transpose(image, (2, 0, 1))\n",
    "            \n",
    "        if self.transform:\n",
    "            image = self.transform(image)\n",
    "        # return (ID, Labels). Here \"Labels\" are Integers.\n",
    "        return image, self.ids[idx]\n"
   ],
   "id": "e702b4d84ad29b44",
   "outputs": [],
   "execution_count": null
  },
  {
   "metadata": {},
   "cell_type": "code",
   "source": [
    "test_no_label_dataset = CIFAR10TestNoLabelDataset(test_nolabel_pkl, transform=test_transform)\n",
    "test_no_label_loader = DataLoader(test_no_label_dataset, batch_size=256, shuffle=False, num_workers=0)"
   ],
   "id": "3bf25aa25e7b0a9b",
   "outputs": [],
   "execution_count": null
  },
  {
   "metadata": {},
   "cell_type": "code",
   "source": [
    "def generate_submission_nolabel():\n",
    "    model.eval()\n",
    "    predictions = []\n",
    "    ids_col = []\n",
    "    \n",
    "    with torch.no_grad():\n",
    "        for inputs, img_id in test_no_label_loader:\n",
    "            inputs = inputs.to(device)\n",
    "            outputs = model(inputs)\n",
    "            _, predicted = torch.max(outputs, 1)\n",
    "            predictions.extend(predicted.cpu().numpy())\n",
    "            # collect ID\n",
    "            ids_col.extend(img_id.numpy() if torch.is_tensor(img_id) else img_id)\n",
    "\n",
    "    # construct DataFrame and save it as a .CSV file.\n",
    "    import pandas as pd\n",
    "    submission = pd.DataFrame({'ID': ids_col, 'Labels': predictions})\n",
    "    submission.to_csv('testSubmission1.csv', index=False)\n",
    "    print(\"Submission CSV saved as 'testSubmission1.csv'.\")"
   ],
   "id": "10445b73b15de731",
   "outputs": [],
   "execution_count": null
  },
  {
   "metadata": {
    "ExecuteTime": {
     "end_time": "2025-03-11T00:45:12.017018Z",
     "start_time": "2025-03-11T00:45:10.513030Z"
    }
   },
   "cell_type": "code",
   "source": "generate_submission_nolabel()",
   "id": "2daf7d90e1c6534d",
   "outputs": [
    {
     "name": "stdout",
     "output_type": "stream",
     "text": [
      "Submission CSV saved as 'testSubmission1.csv'.\n"
     ]
    }
   ],
   "execution_count": 39
  },
  {
   "metadata": {
    "ExecuteTime": {
     "end_time": "2025-03-11T00:46:56.374689Z",
     "start_time": "2025-03-11T00:46:56.371070Z"
    }
   },
   "cell_type": "code",
   "source": [
    "num_params = sum(p.numel()for p in model.parameters())\n",
    "print(\"Total number of parameters: {:.2f}M\".format(num_params/1e6))\n",
    "print(\"Final Training Accuracy: {:.3f}%\".format(train_accuracies[-1]))\n",
    "print(\"Final Test Accuracy: {:.3f}%\".format(test_accuracies[-1]))"
   ],
   "id": "eaa1c27ece5112ae",
   "outputs": [
    {
     "name": "stdout",
     "output_type": "stream",
     "text": [
      "Total number of parameters: 0.86M\n",
      "Final Training Accuracy: 54.651%\n",
      "Final Test Accuracy: 93.920%\n"
     ]
    }
   ],
   "execution_count": 41
  }
 ],
 "metadata": {
  "kernelspec": {
   "display_name": "Python 3",
   "language": "python",
   "name": "python3"
  },
  "language_info": {
   "codemirror_mode": {
    "name": "ipython",
    "version": 2
   },
   "file_extension": ".py",
   "mimetype": "text/x-python",
   "name": "python",
   "nbconvert_exporter": "python",
   "pygments_lexer": "ipython2",
   "version": "2.7.6"
  }
 },
 "nbformat": 4,
 "nbformat_minor": 5
}
